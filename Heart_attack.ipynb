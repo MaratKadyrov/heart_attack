{
 "cells": [
  {
   "cell_type": "markdown",
   "id": "fa251e90-3dec-41b4-b870-75d33b8bd6c2",
   "metadata": {},
   "source": [
    "# Предсказание риска сердечных приступов"
   ]
  },
  {
   "cell_type": "markdown",
   "id": "cbfb6f08-8cf1-470d-b771-4b2bbd2d1af0",
   "metadata": {},
   "source": [
    "**Цель исследования:**\n",
    "- Создать модель для предсказания риска сердечных приступов\n",
    "\n",
    "**Ход исследования:**\n",
    "- Импорт данных;\n",
    "- Исследование датасета;\n",
    "- Предобработка данных;\n",
    "- Обучение модели."
   ]
  },
  {
   "cell_type": "markdown",
   "id": "c26e5459-f623-4bca-aecb-af8e5d22db55",
   "metadata": {},
   "source": [
    "## Импорт библиотек"
   ]
  },
  {
   "cell_type": "code",
   "execution_count": 17,
   "id": "5f955ba5-3f2b-4007-a602-520a32251549",
   "metadata": {},
   "outputs": [],
   "source": [
    "import os\n",
    "import pandas as pd\n",
    "import numpy as np\n",
    "import matplotlib.pyplot as plt\n",
    "import seaborn as sns"
   ]
  },
  {
   "cell_type": "markdown",
   "id": "093a09bd-2db0-45b2-a7b3-afefe4ce8073",
   "metadata": {},
   "source": [
    "## Загрузка данных"
   ]
  },
  {
   "cell_type": "code",
   "execution_count": 18,
   "id": "88cf3295-6ab8-4503-9c8e-81509b76dc67",
   "metadata": {},
   "outputs": [],
   "source": [
    "pth1 = './datasets/heart_train.csv'"
   ]
  },
  {
   "cell_type": "code",
   "execution_count": 19,
   "id": "2390bc41-53e2-4f19-b34c-e00d4486dece",
   "metadata": {},
   "outputs": [
    {
     "data": {
      "text/html": [
       "<div>\n",
       "<style scoped>\n",
       "    .dataframe tbody tr th:only-of-type {\n",
       "        vertical-align: middle;\n",
       "    }\n",
       "\n",
       "    .dataframe tbody tr th {\n",
       "        vertical-align: top;\n",
       "    }\n",
       "\n",
       "    .dataframe thead th {\n",
       "        text-align: right;\n",
       "    }\n",
       "</style>\n",
       "<table border=\"1\" class=\"dataframe\">\n",
       "  <thead>\n",
       "    <tr style=\"text-align: right;\">\n",
       "      <th></th>\n",
       "      <th>Unnamed: 0</th>\n",
       "      <th>Age</th>\n",
       "      <th>Cholesterol</th>\n",
       "      <th>Heart rate</th>\n",
       "      <th>Diabetes</th>\n",
       "      <th>Family History</th>\n",
       "      <th>Smoking</th>\n",
       "      <th>Obesity</th>\n",
       "      <th>Alcohol Consumption</th>\n",
       "      <th>Exercise Hours Per Week</th>\n",
       "      <th>...</th>\n",
       "      <th>Physical Activity Days Per Week</th>\n",
       "      <th>Sleep Hours Per Day</th>\n",
       "      <th>Heart Attack Risk (Binary)</th>\n",
       "      <th>Blood sugar</th>\n",
       "      <th>CK-MB</th>\n",
       "      <th>Troponin</th>\n",
       "      <th>Gender</th>\n",
       "      <th>Systolic blood pressure</th>\n",
       "      <th>Diastolic blood pressure</th>\n",
       "      <th>id</th>\n",
       "    </tr>\n",
       "  </thead>\n",
       "  <tbody>\n",
       "    <tr>\n",
       "      <th>0</th>\n",
       "      <td>0</td>\n",
       "      <td>0.359551</td>\n",
       "      <td>0.732143</td>\n",
       "      <td>0.074244</td>\n",
       "      <td>1.0</td>\n",
       "      <td>1.0</td>\n",
       "      <td>1.0</td>\n",
       "      <td>1.0</td>\n",
       "      <td>1.0</td>\n",
       "      <td>0.535505</td>\n",
       "      <td>...</td>\n",
       "      <td>3.0</td>\n",
       "      <td>0.333333</td>\n",
       "      <td>0.0</td>\n",
       "      <td>0.227018</td>\n",
       "      <td>0.048229</td>\n",
       "      <td>0.036512</td>\n",
       "      <td>Male</td>\n",
       "      <td>0.212903</td>\n",
       "      <td>0.709302</td>\n",
       "      <td>2664</td>\n",
       "    </tr>\n",
       "    <tr>\n",
       "      <th>1</th>\n",
       "      <td>1</td>\n",
       "      <td>0.202247</td>\n",
       "      <td>0.325000</td>\n",
       "      <td>0.047663</td>\n",
       "      <td>1.0</td>\n",
       "      <td>1.0</td>\n",
       "      <td>0.0</td>\n",
       "      <td>0.0</td>\n",
       "      <td>1.0</td>\n",
       "      <td>0.068690</td>\n",
       "      <td>...</td>\n",
       "      <td>3.0</td>\n",
       "      <td>0.833333</td>\n",
       "      <td>0.0</td>\n",
       "      <td>0.150198</td>\n",
       "      <td>0.017616</td>\n",
       "      <td>0.000194</td>\n",
       "      <td>Female</td>\n",
       "      <td>0.412903</td>\n",
       "      <td>0.569767</td>\n",
       "      <td>9287</td>\n",
       "    </tr>\n",
       "    <tr>\n",
       "      <th>2</th>\n",
       "      <td>2</td>\n",
       "      <td>0.606742</td>\n",
       "      <td>0.860714</td>\n",
       "      <td>0.055912</td>\n",
       "      <td>1.0</td>\n",
       "      <td>0.0</td>\n",
       "      <td>1.0</td>\n",
       "      <td>1.0</td>\n",
       "      <td>1.0</td>\n",
       "      <td>0.944001</td>\n",
       "      <td>...</td>\n",
       "      <td>2.0</td>\n",
       "      <td>1.000000</td>\n",
       "      <td>0.0</td>\n",
       "      <td>0.227018</td>\n",
       "      <td>0.048229</td>\n",
       "      <td>0.036512</td>\n",
       "      <td>Female</td>\n",
       "      <td>0.238710</td>\n",
       "      <td>0.220930</td>\n",
       "      <td>5379</td>\n",
       "    </tr>\n",
       "    <tr>\n",
       "      <th>3</th>\n",
       "      <td>3</td>\n",
       "      <td>0.730337</td>\n",
       "      <td>0.007143</td>\n",
       "      <td>0.053162</td>\n",
       "      <td>0.0</td>\n",
       "      <td>0.0</td>\n",
       "      <td>1.0</td>\n",
       "      <td>0.0</td>\n",
       "      <td>1.0</td>\n",
       "      <td>0.697023</td>\n",
       "      <td>...</td>\n",
       "      <td>0.0</td>\n",
       "      <td>0.333333</td>\n",
       "      <td>1.0</td>\n",
       "      <td>0.227018</td>\n",
       "      <td>0.048229</td>\n",
       "      <td>0.036512</td>\n",
       "      <td>Female</td>\n",
       "      <td>0.348387</td>\n",
       "      <td>0.267442</td>\n",
       "      <td>8222</td>\n",
       "    </tr>\n",
       "    <tr>\n",
       "      <th>4</th>\n",
       "      <td>4</td>\n",
       "      <td>0.775281</td>\n",
       "      <td>0.757143</td>\n",
       "      <td>0.021998</td>\n",
       "      <td>0.0</td>\n",
       "      <td>0.0</td>\n",
       "      <td>1.0</td>\n",
       "      <td>0.0</td>\n",
       "      <td>1.0</td>\n",
       "      <td>0.412878</td>\n",
       "      <td>...</td>\n",
       "      <td>5.0</td>\n",
       "      <td>1.000000</td>\n",
       "      <td>1.0</td>\n",
       "      <td>0.227018</td>\n",
       "      <td>0.048229</td>\n",
       "      <td>0.036512</td>\n",
       "      <td>Male</td>\n",
       "      <td>0.619355</td>\n",
       "      <td>0.441860</td>\n",
       "      <td>4047</td>\n",
       "    </tr>\n",
       "  </tbody>\n",
       "</table>\n",
       "<p>5 rows × 28 columns</p>\n",
       "</div>"
      ],
      "text/plain": [
       "   Unnamed: 0       Age  Cholesterol  Heart rate  Diabetes  Family History  \\\n",
       "0           0  0.359551     0.732143    0.074244       1.0             1.0   \n",
       "1           1  0.202247     0.325000    0.047663       1.0             1.0   \n",
       "2           2  0.606742     0.860714    0.055912       1.0             0.0   \n",
       "3           3  0.730337     0.007143    0.053162       0.0             0.0   \n",
       "4           4  0.775281     0.757143    0.021998       0.0             0.0   \n",
       "\n",
       "   Smoking  Obesity  Alcohol Consumption  Exercise Hours Per Week  ...  \\\n",
       "0      1.0      1.0                  1.0                 0.535505  ...   \n",
       "1      0.0      0.0                  1.0                 0.068690  ...   \n",
       "2      1.0      1.0                  1.0                 0.944001  ...   \n",
       "3      1.0      0.0                  1.0                 0.697023  ...   \n",
       "4      1.0      0.0                  1.0                 0.412878  ...   \n",
       "\n",
       "   Physical Activity Days Per Week  Sleep Hours Per Day  \\\n",
       "0                              3.0             0.333333   \n",
       "1                              3.0             0.833333   \n",
       "2                              2.0             1.000000   \n",
       "3                              0.0             0.333333   \n",
       "4                              5.0             1.000000   \n",
       "\n",
       "   Heart Attack Risk (Binary)  Blood sugar     CK-MB  Troponin  Gender  \\\n",
       "0                         0.0     0.227018  0.048229  0.036512    Male   \n",
       "1                         0.0     0.150198  0.017616  0.000194  Female   \n",
       "2                         0.0     0.227018  0.048229  0.036512  Female   \n",
       "3                         1.0     0.227018  0.048229  0.036512  Female   \n",
       "4                         1.0     0.227018  0.048229  0.036512    Male   \n",
       "\n",
       "   Systolic blood pressure  Diastolic blood pressure    id  \n",
       "0                 0.212903                  0.709302  2664  \n",
       "1                 0.412903                  0.569767  9287  \n",
       "2                 0.238710                  0.220930  5379  \n",
       "3                 0.348387                  0.267442  8222  \n",
       "4                 0.619355                  0.441860  4047  \n",
       "\n",
       "[5 rows x 28 columns]"
      ]
     },
     "execution_count": 19,
     "metadata": {},
     "output_type": "execute_result"
    }
   ],
   "source": [
    "if os.path.exists(pth1):\n",
    "    train_df = pd.read_csv(pth1)\n",
    "else:\n",
    "    print('Упс, что-то пошло не так!')\n",
    "                                         \n",
    "train_df.head()"
   ]
  },
  {
   "cell_type": "code",
   "execution_count": 20,
   "id": "e627775b-b95e-4406-ad62-d71a87a89216",
   "metadata": {},
   "outputs": [
    {
     "name": "stdout",
     "output_type": "stream",
     "text": [
      "<class 'pandas.core.frame.DataFrame'>\n",
      "RangeIndex: 8685 entries, 0 to 8684\n",
      "Data columns (total 28 columns):\n",
      " #   Column                           Non-Null Count  Dtype  \n",
      "---  ------                           --------------  -----  \n",
      " 0   Unnamed: 0                       8685 non-null   int64  \n",
      " 1   Age                              8685 non-null   float64\n",
      " 2   Cholesterol                      8685 non-null   float64\n",
      " 3   Heart rate                       8685 non-null   float64\n",
      " 4   Diabetes                         8442 non-null   float64\n",
      " 5   Family History                   8442 non-null   float64\n",
      " 6   Smoking                          8442 non-null   float64\n",
      " 7   Obesity                          8442 non-null   float64\n",
      " 8   Alcohol Consumption              8442 non-null   float64\n",
      " 9   Exercise Hours Per Week          8685 non-null   float64\n",
      " 10  Diet                             8685 non-null   int64  \n",
      " 11  Previous Heart Problems          8442 non-null   float64\n",
      " 12  Medication Use                   8442 non-null   float64\n",
      " 13  Stress Level                     8442 non-null   float64\n",
      " 14  Sedentary Hours Per Day          8685 non-null   float64\n",
      " 15  Income                           8685 non-null   float64\n",
      " 16  BMI                              8685 non-null   float64\n",
      " 17  Triglycerides                    8685 non-null   float64\n",
      " 18  Physical Activity Days Per Week  8442 non-null   float64\n",
      " 19  Sleep Hours Per Day              8685 non-null   float64\n",
      " 20  Heart Attack Risk (Binary)       8685 non-null   float64\n",
      " 21  Blood sugar                      8685 non-null   float64\n",
      " 22  CK-MB                            8685 non-null   float64\n",
      " 23  Troponin                         8685 non-null   float64\n",
      " 24  Gender                           8685 non-null   object \n",
      " 25  Systolic blood pressure          8685 non-null   float64\n",
      " 26  Diastolic blood pressure         8685 non-null   float64\n",
      " 27  id                               8685 non-null   int64  \n",
      "dtypes: float64(24), int64(3), object(1)\n",
      "memory usage: 1.9+ MB\n"
     ]
    }
   ],
   "source": [
    "train_df.info()"
   ]
  },
  {
   "cell_type": "markdown",
   "id": "29e704a7-8ab9-49c3-a5a4-65977deea897",
   "metadata": {},
   "source": [
    "Вывод\n",
    "- В датафрейме 8685 строк;\n",
    "- Есть пропуски;"
   ]
  },
  {
   "cell_type": "markdown",
   "id": "736da911-7c27-494f-9eb7-913925aa093f",
   "metadata": {},
   "source": [
    "## Предобработка данных"
   ]
  },
  {
   "cell_type": "markdown",
   "id": "0f5946c1-7d3d-4646-8c3c-11d0bee04910",
   "metadata": {},
   "source": [
    "### Удаление признака \"Unnamed: 0\""
   ]
  },
  {
   "cell_type": "code",
   "execution_count": 21,
   "id": "439d35ec-1716-4ad2-96fa-cfe511d5e752",
   "metadata": {},
   "outputs": [
    {
     "data": {
      "text/plain": [
       "Index(['Age', 'Cholesterol', 'Heart rate', 'Diabetes', 'Family History',\n",
       "       'Smoking', 'Obesity', 'Alcohol Consumption', 'Exercise Hours Per Week',\n",
       "       'Diet', 'Previous Heart Problems', 'Medication Use', 'Stress Level',\n",
       "       'Sedentary Hours Per Day', 'Income', 'BMI', 'Triglycerides',\n",
       "       'Physical Activity Days Per Week', 'Sleep Hours Per Day',\n",
       "       'Heart Attack Risk (Binary)', 'Blood sugar', 'CK-MB', 'Troponin',\n",
       "       'Gender', 'Systolic blood pressure', 'Diastolic blood pressure', 'id'],\n",
       "      dtype='object')"
      ]
     },
     "execution_count": 21,
     "metadata": {},
     "output_type": "execute_result"
    }
   ],
   "source": [
    "train_df.drop('Unnamed: 0', axis=1, inplace=True)\n",
    "train_df.columns"
   ]
  },
  {
   "cell_type": "markdown",
   "id": "c4e6f000-862e-48e1-a6a8-20438324b5ad",
   "metadata": {},
   "source": [
    "### Обработка дубликатов"
   ]
  },
  {
   "cell_type": "markdown",
   "id": "72786535-967c-4e75-bdcd-936e90718d2f",
   "metadata": {},
   "source": [
    "#### Проверка явных дубликатов"
   ]
  },
  {
   "cell_type": "code",
   "execution_count": 25,
   "id": "51f046f0-4c82-4730-8f37-50e1d9bd38ec",
   "metadata": {},
   "outputs": [
    {
     "data": {
      "text/plain": [
       "0"
      ]
     },
     "execution_count": 25,
     "metadata": {},
     "output_type": "execute_result"
    }
   ],
   "source": [
    "train_df.duplicated().sum()"
   ]
  },
  {
   "cell_type": "markdown",
   "id": "19c31987-5a71-4f2f-85b2-5c6cb1e42516",
   "metadata": {},
   "source": [
    "#### Проверка неявных дубликатов"
   ]
  },
  {
   "cell_type": "code",
   "execution_count": 28,
   "id": "ebc62a46-08c6-4d7c-ba8f-3dd9bf1bb6c3",
   "metadata": {},
   "outputs": [
    {
     "data": {
      "text/plain": [
       "0"
      ]
     },
     "execution_count": 28,
     "metadata": {},
     "output_type": "execute_result"
    }
   ],
   "source": [
    "# Поиск дубликатов по ID\n",
    "train_df['id'].duplicated().sum()"
   ]
  },
  {
   "cell_type": "code",
   "execution_count": 29,
   "id": "5e8278e4-8cc7-448e-a9da-a4cf29e1fd73",
   "metadata": {},
   "outputs": [
    {
     "data": {
      "text/plain": [
       "0"
      ]
     },
     "execution_count": 29,
     "metadata": {},
     "output_type": "execute_result"
    }
   ],
   "source": [
    "# Поиск дубликатов по всем признакам, за исключение признака ID\n",
    "train_df.drop('id', axis=1).duplicated().sum()"
   ]
  },
  {
   "cell_type": "markdown",
   "id": "55509d9e-306e-438f-850a-b30f04bdfca1",
   "metadata": {},
   "source": [
    "Вывод по разделу **\"Предобработка данных\"**:\n",
    "- Удален признак **\"Unnamed: 0\"** как неинформативный;\n",
    "- Дубликаты отсутствуют\n"
   ]
  },
  {
   "cell_type": "code",
   "execution_count": 31,
   "id": "083b9603-8719-4f27-88a0-2f2bbbe0c93e",
   "metadata": {},
   "outputs": [
    {
     "data": {
      "text/plain": [
       "Index(['Age', 'Cholesterol', 'Heart rate', 'Diabetes', 'Family History',\n",
       "       'Smoking', 'Obesity', 'Alcohol Consumption', 'Exercise Hours Per Week',\n",
       "       'Diet', 'Previous Heart Problems', 'Medication Use', 'Stress Level',\n",
       "       'Sedentary Hours Per Day', 'Income', 'BMI', 'Triglycerides',\n",
       "       'Physical Activity Days Per Week', 'Sleep Hours Per Day',\n",
       "       'Heart Attack Risk (Binary)', 'Blood sugar', 'CK-MB', 'Troponin',\n",
       "       'Gender', 'Systolic blood pressure', 'Diastolic blood pressure', 'id'],\n",
       "      dtype='object')"
      ]
     },
     "execution_count": 31,
     "metadata": {},
     "output_type": "execute_result"
    }
   ],
   "source": [
    "train_df.columns"
   ]
  },
  {
   "cell_type": "code",
   "execution_count": null,
   "id": "7a4347a7-4a35-4da9-9ab9-d009c6e6e530",
   "metadata": {},
   "outputs": [],
   "source": []
  }
 ],
 "metadata": {
  "kernelspec": {
   "display_name": "Python 3 (ipykernel)",
   "language": "python",
   "name": "python3"
  },
  "language_info": {
   "codemirror_mode": {
    "name": "ipython",
    "version": 3
   },
   "file_extension": ".py",
   "mimetype": "text/x-python",
   "name": "python",
   "nbconvert_exporter": "python",
   "pygments_lexer": "ipython3",
   "version": "3.12.7"
  }
 },
 "nbformat": 4,
 "nbformat_minor": 5
}
